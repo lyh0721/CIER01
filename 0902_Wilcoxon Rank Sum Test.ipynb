{
 "cells": [
  {
   "cell_type": "code",
   "execution_count": 58,
   "id": "0cc74154-b81a-4d22-9533-035a138902f4",
   "metadata": {},
   "outputs": [],
   "source": [
    "import pandas as pd\n",
    "from scipy.stats import ranksums"
   ]
  },
  {
   "cell_type": "code",
   "execution_count": 60,
   "id": "0f1951b6-55a8-4de5-b419-847455650fb6",
   "metadata": {},
   "outputs": [],
   "source": [
    "data1 = pd.DataFrame({\n",
    "    'ESCORE': [75.73, 75.98, 53.93, 71.24, 76.47, 81.82, 87.93, 72.75, 79.1, 81.4, 89.93, 40.35, 75.37, 69.3,\n",
    "               62.27, 68.05, 67.55, 59.35, 67.73, 84.2, 75.52, 90.29, 79.73, 82.89, 58.5, 64.81, 81.15, 73.83,\n",
    "               59.35, 74.61, 40.35, 40.35, 75.15, 61.28, 52.56, 73.41, 73.92, 84.53, 84.13, 87.24, 83.09, 75.49,\n",
    "               84.01, 74.95],\n",
    "    'CAR': [0.8689, 0.4881, 2.534, 8.4463, 2.542, 2.8592, 1.9988, 6.7057, 4.5001, 2.2519, 0.5355, 3.8676, 6.3378,\n",
    "            4.7802, 2.233, 8.2921, 6.6417, 9.8743, 9.4078, 0.6454, 2.1114, 1.5921, 1.4181, 1.3677, 2.8075, 1.819,\n",
    "            1.7371, 0.4907, 12.0459, 2.6409, 3.8676, 3.8676, 0.0876, 7.4464, 4.5973, 1.9413, 0.8044, 0.6965, 0.2612,\n",
    "            0.0069, 0.1712, 0.9568, 0.9479, 3.697],\n",
    "    'GREEN': [124.3748, 1162.7254, 0, 20.1234, 279.8655, 33.9701, 18.3573, 0, 4.3178, 0, 418.6987, 0, 234.4702, 0,\n",
    "              0, 0, 0, 0, 0, 0.5886, 0, 158.1681, 0, 130.657, 0, 0, 32.3583, 0, 0, 0, 0, 0, 0, 0, 0, 0, 158.2675,\n",
    "              2.9462, 6.813, 0, 69.9519, 0, 170.4354, 6.7995],\n",
    "    'treatment': [1, 1, 1, 1, 1, 1, 1, 1, 1, 1, 1, 1, 1, 1, 1, 1, 1, 0, 0, 0, 0, 0, 0, 0, 0, 0, 0, 0, 0, 0, 0, 0, 0,\n",
    "                  0, 0, 0, 0, 0, 0, 0, 0, 0, 0, 0]\n",
    "})"
   ]
  },
  {
   "cell_type": "code",
   "execution_count": 62,
   "id": "b61e2268-fb62-475c-a863-df8f9d77650c",
   "metadata": {},
   "outputs": [],
   "source": [
    "treatment_1 = data1[data1['treatment'] == 1]\n",
    "treatment_0 = data1[data1['treatment'] == 0]"
   ]
  },
  {
   "cell_type": "code",
   "execution_count": 64,
   "id": "e1bc4b86-0189-48f0-9669-b9d4856d411d",
   "metadata": {},
   "outputs": [
    {
     "data": {
      "text/html": [
       "<div>\n",
       "<style scoped>\n",
       "    .dataframe tbody tr th:only-of-type {\n",
       "        vertical-align: middle;\n",
       "    }\n",
       "\n",
       "    .dataframe tbody tr th {\n",
       "        vertical-align: top;\n",
       "    }\n",
       "\n",
       "    .dataframe thead th {\n",
       "        text-align: right;\n",
       "    }\n",
       "</style>\n",
       "<table border=\"1\" class=\"dataframe\">\n",
       "  <thead>\n",
       "    <tr style=\"text-align: right;\">\n",
       "      <th></th>\n",
       "      <th>ESCORE</th>\n",
       "      <th>CAR</th>\n",
       "      <th>GREEN</th>\n",
       "      <th>treatment</th>\n",
       "    </tr>\n",
       "  </thead>\n",
       "  <tbody>\n",
       "    <tr>\n",
       "      <th>0</th>\n",
       "      <td>75.73</td>\n",
       "      <td>0.8689</td>\n",
       "      <td>124.3748</td>\n",
       "      <td>1</td>\n",
       "    </tr>\n",
       "    <tr>\n",
       "      <th>1</th>\n",
       "      <td>75.98</td>\n",
       "      <td>0.4881</td>\n",
       "      <td>1162.7254</td>\n",
       "      <td>1</td>\n",
       "    </tr>\n",
       "    <tr>\n",
       "      <th>2</th>\n",
       "      <td>53.93</td>\n",
       "      <td>2.5340</td>\n",
       "      <td>0.0000</td>\n",
       "      <td>1</td>\n",
       "    </tr>\n",
       "    <tr>\n",
       "      <th>3</th>\n",
       "      <td>71.24</td>\n",
       "      <td>8.4463</td>\n",
       "      <td>20.1234</td>\n",
       "      <td>1</td>\n",
       "    </tr>\n",
       "    <tr>\n",
       "      <th>4</th>\n",
       "      <td>76.47</td>\n",
       "      <td>2.5420</td>\n",
       "      <td>279.8655</td>\n",
       "      <td>1</td>\n",
       "    </tr>\n",
       "  </tbody>\n",
       "</table>\n",
       "</div>"
      ],
      "text/plain": [
       "   ESCORE     CAR      GREEN  treatment\n",
       "0   75.73  0.8689   124.3748          1\n",
       "1   75.98  0.4881  1162.7254          1\n",
       "2   53.93  2.5340     0.0000          1\n",
       "3   71.24  8.4463    20.1234          1\n",
       "4   76.47  2.5420   279.8655          1"
      ]
     },
     "execution_count": 64,
     "metadata": {},
     "output_type": "execute_result"
    }
   ],
   "source": [
    "treatment_1.head()"
   ]
  },
  {
   "cell_type": "code",
   "execution_count": 66,
   "id": "6c0b32cf-ccbb-485b-8e7d-b516f939df12",
   "metadata": {},
   "outputs": [
    {
     "data": {
      "text/plain": [
       "{'ESCORE': RanksumsResult(statistic=-0.036155076303109365, pvalue=0.5144206467669177),\n",
       " 'CAR': RanksumsResult(statistic=1.7715987388523589, pvalue=0.9617694053991288),\n",
       " 'GREEN': RanksumsResult(statistic=1.2654276706088277, pvalue=0.10285903063211416)}"
      ]
     },
     "execution_count": 66,
     "metadata": {},
     "output_type": "execute_result"
    }
   ],
   "source": [
    "results = {\n",
    "    'ESCORE': ranksums(treatment_1['ESCORE'], treatment_0['ESCORE'], alternative='greater'),\n",
    "    'CAR': ranksums(treatment_1['CAR'], treatment_0['CAR'], alternative='less'),\n",
    "    'GREEN': ranksums(treatment_1['GREEN'], treatment_0['GREEN'], alternative='greater')\n",
    "}\n",
    "\n",
    "results"
   ]
  },
  {
   "cell_type": "code",
   "execution_count": null,
   "id": "a54bee14-89a5-434d-8612-1582e66ee36a",
   "metadata": {},
   "outputs": [],
   "source": []
  },
  {
   "cell_type": "code",
   "execution_count": null,
   "id": "c8e6b041-f639-4fbb-823f-6ece49664cdf",
   "metadata": {},
   "outputs": [],
   "source": []
  },
  {
   "cell_type": "code",
   "execution_count": 70,
   "id": "d463b850-36c6-45f5-a249-6d9887c87fa1",
   "metadata": {},
   "outputs": [],
   "source": [
    "data2 = pd.DataFrame({\n",
    "    'ESCORE': [65.23, 64.92, 68.91, 49.6, 77.29, 81.87, 66.31, 75.76, 63.54, 64.18, 83.82, 47.76, 53.22, 72.99, 73.21, 83.45, 66.69],\n",
    "    'CAR': [3.682, 0.7295, 3.1534, 3.8676, 1.958, 0.0807, 0.565, 2.0402, 1.25, 2.1826, 3.4197, 1.2538, 9.8172, 4.536, 1.158, 1.3275, 2.7257],\n",
    "    'GREEN': [0, 0, 0, 0, 67.1199, 7.929, 0, 202.7572, 142.6322, 0, 15.8851, 0, 0.2773, 1.5065, 0, 3.9919, 26.688],\n",
    "    'treatment': [1, 1, 1, 1, 1, 1, 0, 0, 0, 0, 0, 0, 0, 0, 0, 0, 0]\n",
    "})"
   ]
  },
  {
   "cell_type": "code",
   "execution_count": 72,
   "id": "33daddf0-a875-40a7-9e49-0432235d6435",
   "metadata": {},
   "outputs": [],
   "source": [
    "treatment_1 = data2[data2['treatment'] == 1]\n",
    "treatment_0 = data2[data2['treatment'] == 0]"
   ]
  },
  {
   "cell_type": "code",
   "execution_count": 74,
   "id": "a9115e5f-b19b-4e78-b8c5-7e7d02f7b03a",
   "metadata": {},
   "outputs": [
    {
     "data": {
      "text/html": [
       "<div>\n",
       "<style scoped>\n",
       "    .dataframe tbody tr th:only-of-type {\n",
       "        vertical-align: middle;\n",
       "    }\n",
       "\n",
       "    .dataframe tbody tr th {\n",
       "        vertical-align: top;\n",
       "    }\n",
       "\n",
       "    .dataframe thead th {\n",
       "        text-align: right;\n",
       "    }\n",
       "</style>\n",
       "<table border=\"1\" class=\"dataframe\">\n",
       "  <thead>\n",
       "    <tr style=\"text-align: right;\">\n",
       "      <th></th>\n",
       "      <th>ESCORE</th>\n",
       "      <th>CAR</th>\n",
       "      <th>GREEN</th>\n",
       "      <th>treatment</th>\n",
       "    </tr>\n",
       "  </thead>\n",
       "  <tbody>\n",
       "    <tr>\n",
       "      <th>0</th>\n",
       "      <td>65.23</td>\n",
       "      <td>3.6820</td>\n",
       "      <td>0.0000</td>\n",
       "      <td>1</td>\n",
       "    </tr>\n",
       "    <tr>\n",
       "      <th>1</th>\n",
       "      <td>64.92</td>\n",
       "      <td>0.7295</td>\n",
       "      <td>0.0000</td>\n",
       "      <td>1</td>\n",
       "    </tr>\n",
       "    <tr>\n",
       "      <th>2</th>\n",
       "      <td>68.91</td>\n",
       "      <td>3.1534</td>\n",
       "      <td>0.0000</td>\n",
       "      <td>1</td>\n",
       "    </tr>\n",
       "    <tr>\n",
       "      <th>3</th>\n",
       "      <td>49.60</td>\n",
       "      <td>3.8676</td>\n",
       "      <td>0.0000</td>\n",
       "      <td>1</td>\n",
       "    </tr>\n",
       "    <tr>\n",
       "      <th>4</th>\n",
       "      <td>77.29</td>\n",
       "      <td>1.9580</td>\n",
       "      <td>67.1199</td>\n",
       "      <td>1</td>\n",
       "    </tr>\n",
       "  </tbody>\n",
       "</table>\n",
       "</div>"
      ],
      "text/plain": [
       "   ESCORE     CAR    GREEN  treatment\n",
       "0   65.23  3.6820   0.0000          1\n",
       "1   64.92  0.7295   0.0000          1\n",
       "2   68.91  3.1534   0.0000          1\n",
       "3   49.60  3.8676   0.0000          1\n",
       "4   77.29  1.9580  67.1199          1"
      ]
     },
     "execution_count": 74,
     "metadata": {},
     "output_type": "execute_result"
    }
   ],
   "source": [
    "treatment_1.head()"
   ]
  },
  {
   "cell_type": "code",
   "execution_count": 76,
   "id": "a237bcdf-7b65-4434-852b-e0b9c830041a",
   "metadata": {},
   "outputs": [
    {
     "data": {
      "text/plain": [
       "{'ESCORE': RanksumsResult(statistic=0.0, pvalue=0.5),\n",
       " 'CAR': RanksumsResult(statistic=-0.10050378152592121, pvalue=0.45997219040850373),\n",
       " 'GREEN': RanksumsResult(statistic=-0.9045340337332909, pvalue=0.8171438518592433)}"
      ]
     },
     "execution_count": 76,
     "metadata": {},
     "output_type": "execute_result"
    }
   ],
   "source": [
    "results = {\n",
    "    'ESCORE': ranksums(treatment_1['ESCORE'], treatment_0['ESCORE'], alternative='greater'),\n",
    "    'CAR': ranksums(treatment_1['CAR'], treatment_0['CAR'], alternative='less'),\n",
    "    'GREEN': ranksums(treatment_1['GREEN'], treatment_0['GREEN'], alternative='greater')\n",
    "}\n",
    "\n",
    "results"
   ]
  },
  {
   "cell_type": "code",
   "execution_count": null,
   "id": "8ef78927-72b6-4e5b-bdae-fe67d09ca1f4",
   "metadata": {},
   "outputs": [],
   "source": []
  },
  {
   "cell_type": "code",
   "execution_count": null,
   "id": "b6f3b6c5-031e-4e17-96cf-5f5bd1779d35",
   "metadata": {},
   "outputs": [],
   "source": []
  },
  {
   "cell_type": "code",
   "execution_count": 81,
   "id": "162d817d-b84d-4da4-8ea1-c48555941a7b",
   "metadata": {},
   "outputs": [],
   "source": [
    "data3 = pd.DataFrame({\n",
    "    'ESCORE': [82.52, 78.05, 86.9, 85.92, 81.98, 82.54, 73.22],\n",
    "    'CAR': [5.1056, 4.2092, 2.6268, 1.7464, 17.6381, 0.1646, 7.7575],\n",
    "    'GREEN': [969.3758, 6.9819, 1222.0844, 0, 1.3652, 0.3225, 416.4035],\n",
    "    'treatment': [1, 1, 1, 0, 0, 0, 0]\n",
    "})"
   ]
  },
  {
   "cell_type": "code",
   "execution_count": 83,
   "id": "615d8096-d071-474a-a4a4-2033567eb04d",
   "metadata": {},
   "outputs": [],
   "source": [
    "treatment_1 = data3[data3['treatment'] == 1]\n",
    "treatment_0 = data3[data3['treatment'] == 0]"
   ]
  },
  {
   "cell_type": "code",
   "execution_count": 85,
   "id": "7d6af64e-a3f9-427d-8cfe-484a716fc015",
   "metadata": {},
   "outputs": [
    {
     "data": {
      "text/html": [
       "<div>\n",
       "<style scoped>\n",
       "    .dataframe tbody tr th:only-of-type {\n",
       "        vertical-align: middle;\n",
       "    }\n",
       "\n",
       "    .dataframe tbody tr th {\n",
       "        vertical-align: top;\n",
       "    }\n",
       "\n",
       "    .dataframe thead th {\n",
       "        text-align: right;\n",
       "    }\n",
       "</style>\n",
       "<table border=\"1\" class=\"dataframe\">\n",
       "  <thead>\n",
       "    <tr style=\"text-align: right;\">\n",
       "      <th></th>\n",
       "      <th>ESCORE</th>\n",
       "      <th>CAR</th>\n",
       "      <th>GREEN</th>\n",
       "      <th>treatment</th>\n",
       "    </tr>\n",
       "  </thead>\n",
       "  <tbody>\n",
       "    <tr>\n",
       "      <th>0</th>\n",
       "      <td>82.52</td>\n",
       "      <td>5.1056</td>\n",
       "      <td>969.3758</td>\n",
       "      <td>1</td>\n",
       "    </tr>\n",
       "    <tr>\n",
       "      <th>1</th>\n",
       "      <td>78.05</td>\n",
       "      <td>4.2092</td>\n",
       "      <td>6.9819</td>\n",
       "      <td>1</td>\n",
       "    </tr>\n",
       "    <tr>\n",
       "      <th>2</th>\n",
       "      <td>86.90</td>\n",
       "      <td>2.6268</td>\n",
       "      <td>1222.0844</td>\n",
       "      <td>1</td>\n",
       "    </tr>\n",
       "  </tbody>\n",
       "</table>\n",
       "</div>"
      ],
      "text/plain": [
       "   ESCORE     CAR      GREEN  treatment\n",
       "0   82.52  5.1056   969.3758          1\n",
       "1   78.05  4.2092     6.9819          1\n",
       "2   86.90  2.6268  1222.0844          1"
      ]
     },
     "execution_count": 85,
     "metadata": {},
     "output_type": "execute_result"
    }
   ],
   "source": [
    "treatment_1.head()"
   ]
  },
  {
   "cell_type": "code",
   "execution_count": 87,
   "id": "b0c18f6b-fead-483b-8a2c-e6841327b0ea",
   "metadata": {},
   "outputs": [
    {
     "data": {
      "text/plain": [
       "{'ESCORE': RanksumsResult(statistic=0.35355339059327373, pvalue=0.36183680491588155),\n",
       " 'CAR': RanksumsResult(statistic=0.0, pvalue=0.5),\n",
       " 'GREEN': RanksumsResult(statistic=1.7677669529663687, pvalue=0.038549935871770885)}"
      ]
     },
     "execution_count": 87,
     "metadata": {},
     "output_type": "execute_result"
    }
   ],
   "source": [
    "results = {\n",
    "    'ESCORE': ranksums(treatment_1['ESCORE'], treatment_0['ESCORE'], alternative='greater'),\n",
    "    'CAR': ranksums(treatment_1['CAR'], treatment_0['CAR'], alternative='less'),\n",
    "    'GREEN': ranksums(treatment_1['GREEN'], treatment_0['GREEN'], alternative='greater')\n",
    "}\n",
    "\n",
    "results"
   ]
  },
  {
   "cell_type": "code",
   "execution_count": null,
   "id": "6af94fb1-14c2-474d-a06a-eea4394ffd20",
   "metadata": {},
   "outputs": [],
   "source": []
  },
  {
   "cell_type": "code",
   "execution_count": null,
   "id": "ec1906c4-b13b-4fa3-ba05-bd80d0a78b43",
   "metadata": {},
   "outputs": [],
   "source": []
  },
  {
   "cell_type": "code",
   "execution_count": 91,
   "id": "6b711916-2a32-49c4-a1f0-564b7b188208",
   "metadata": {},
   "outputs": [],
   "source": [
    "data4 = pd.DataFrame({\n",
    "    'ESCORE': [79.04, 79.55, 82.18, 84.74, 82.24, 78.16, 83.76, 82.34, 78.89, 79.93, 79.16],\n",
    "    'CAR': [0.165, 0.2478, 0.3282, 0.3352, 0.5084, 0.1721, 0.2602, 0.2154, 0.3517, 0.1794, 0.0695],\n",
    "    'GREEN': [0, 169.986, 280.9768, 124.0718, 8.4642, 48.6823, 0, 0, 14.2674, 0, 0],\n",
    "    'treatment': [1, 1, 1, 1, 0, 0, 0, 0, 0, 0, 0]\n",
    "})"
   ]
  },
  {
   "cell_type": "code",
   "execution_count": 93,
   "id": "cbb3ece9-6669-4d12-99e5-55ff095893b2",
   "metadata": {},
   "outputs": [],
   "source": [
    "treatment_1 = data4[data4['treatment'] == 1]\n",
    "treatment_0 = data4[data4['treatment'] == 0]"
   ]
  },
  {
   "cell_type": "code",
   "execution_count": 95,
   "id": "9fcd8527-03a6-46d3-bf2a-44d177b5f998",
   "metadata": {},
   "outputs": [
    {
     "data": {
      "text/html": [
       "<div>\n",
       "<style scoped>\n",
       "    .dataframe tbody tr th:only-of-type {\n",
       "        vertical-align: middle;\n",
       "    }\n",
       "\n",
       "    .dataframe tbody tr th {\n",
       "        vertical-align: top;\n",
       "    }\n",
       "\n",
       "    .dataframe thead th {\n",
       "        text-align: right;\n",
       "    }\n",
       "</style>\n",
       "<table border=\"1\" class=\"dataframe\">\n",
       "  <thead>\n",
       "    <tr style=\"text-align: right;\">\n",
       "      <th></th>\n",
       "      <th>ESCORE</th>\n",
       "      <th>CAR</th>\n",
       "      <th>GREEN</th>\n",
       "      <th>treatment</th>\n",
       "    </tr>\n",
       "  </thead>\n",
       "  <tbody>\n",
       "    <tr>\n",
       "      <th>0</th>\n",
       "      <td>79.04</td>\n",
       "      <td>0.1650</td>\n",
       "      <td>0.0000</td>\n",
       "      <td>1</td>\n",
       "    </tr>\n",
       "    <tr>\n",
       "      <th>1</th>\n",
       "      <td>79.55</td>\n",
       "      <td>0.2478</td>\n",
       "      <td>169.9860</td>\n",
       "      <td>1</td>\n",
       "    </tr>\n",
       "    <tr>\n",
       "      <th>2</th>\n",
       "      <td>82.18</td>\n",
       "      <td>0.3282</td>\n",
       "      <td>280.9768</td>\n",
       "      <td>1</td>\n",
       "    </tr>\n",
       "    <tr>\n",
       "      <th>3</th>\n",
       "      <td>84.74</td>\n",
       "      <td>0.3352</td>\n",
       "      <td>124.0718</td>\n",
       "      <td>1</td>\n",
       "    </tr>\n",
       "  </tbody>\n",
       "</table>\n",
       "</div>"
      ],
      "text/plain": [
       "   ESCORE     CAR     GREEN  treatment\n",
       "0   79.04  0.1650    0.0000          1\n",
       "1   79.55  0.2478  169.9860          1\n",
       "2   82.18  0.3282  280.9768          1\n",
       "3   84.74  0.3352  124.0718          1"
      ]
     },
     "execution_count": 95,
     "metadata": {},
     "output_type": "execute_result"
    }
   ],
   "source": [
    "treatment_1.head()"
   ]
  },
  {
   "cell_type": "code",
   "execution_count": 97,
   "id": "61a6969c-8305-43a2-acbb-dc25a79cd355",
   "metadata": {},
   "outputs": [
    {
     "data": {
      "text/plain": [
       "{'ESCORE': RanksumsResult(statistic=0.3779644730092272, pvalue=0.3527284930556367),\n",
       " 'CAR': RanksumsResult(statistic=0.1889822365046136, pvalue=0.5749466304307371),\n",
       " 'GREEN': RanksumsResult(statistic=1.7008401285415224, pvalue=0.04448650585090667)}"
      ]
     },
     "execution_count": 97,
     "metadata": {},
     "output_type": "execute_result"
    }
   ],
   "source": [
    "results = {\n",
    "    'ESCORE': ranksums(treatment_1['ESCORE'], treatment_0['ESCORE'], alternative='greater'),\n",
    "    'CAR': ranksums(treatment_1['CAR'], treatment_0['CAR'], alternative='less'),\n",
    "    'GREEN': ranksums(treatment_1['GREEN'], treatment_0['GREEN'], alternative='greater')\n",
    "}\n",
    "\n",
    "results"
   ]
  },
  {
   "cell_type": "code",
   "execution_count": null,
   "id": "1d5c2567-8135-4b52-abc1-532db9623c62",
   "metadata": {},
   "outputs": [],
   "source": []
  }
 ],
 "metadata": {
  "kernelspec": {
   "display_name": "Python 3 (ipykernel)",
   "language": "python",
   "name": "python3"
  },
  "language_info": {
   "codemirror_mode": {
    "name": "ipython",
    "version": 3
   },
   "file_extension": ".py",
   "mimetype": "text/x-python",
   "name": "python",
   "nbconvert_exporter": "python",
   "pygments_lexer": "ipython3",
   "version": "3.12.4"
  }
 },
 "nbformat": 4,
 "nbformat_minor": 5
}
