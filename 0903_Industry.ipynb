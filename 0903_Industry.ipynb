{
 "cells": [
  {
   "cell_type": "code",
   "execution_count": 3,
   "id": "faab02cc",
   "metadata": {},
   "outputs": [],
   "source": [
    "import pandas as pd \n",
    "import os\n",
    "#os.chdir('C:\\\\Users\\\\user\\\\OneDrive - 中華經濟研究院\\\\4. 供應鏈計劃')\n",
    "os.chdir('C:\\\\Users\\\\linyh\\\\OneDrive - 中華經濟研究院\\\\4. 供應鏈計劃')"
   ]
  },
  {
   "cell_type": "code",
   "execution_count": 5,
   "id": "f0d748f7",
   "metadata": {},
   "outputs": [
    {
     "data": {
      "text/html": [
       "<div>\n",
       "<style scoped>\n",
       "    .dataframe tbody tr th:only-of-type {\n",
       "        vertical-align: middle;\n",
       "    }\n",
       "\n",
       "    .dataframe tbody tr th {\n",
       "        vertical-align: top;\n",
       "    }\n",
       "\n",
       "    .dataframe thead th {\n",
       "        text-align: right;\n",
       "    }\n",
       "</style>\n",
       "<table border=\"1\" class=\"dataframe\">\n",
       "  <thead>\n",
       "    <tr style=\"text-align: right;\">\n",
       "      <th></th>\n",
       "      <th>Company</th>\n",
       "      <th>Industry</th>\n",
       "      <th>Water</th>\n",
       "      <th>Green</th>\n",
       "      <th>Waste</th>\n",
       "      <th>Carbon</th>\n",
       "      <th>E</th>\n",
       "      <th>Apple</th>\n",
       "    </tr>\n",
       "  </thead>\n",
       "  <tbody>\n",
       "    <tr>\n",
       "      <th>0</th>\n",
       "      <td>5245 智晶</td>\n",
       "      <td>光電業</td>\n",
       "      <td>91.5142</td>\n",
       "      <td>0.0000</td>\n",
       "      <td>0.2809</td>\n",
       "      <td>7.4815</td>\n",
       "      <td>23.32</td>\n",
       "      <td>0</td>\n",
       "    </tr>\n",
       "    <tr>\n",
       "      <th>1</th>\n",
       "      <td>2740 天蔥</td>\n",
       "      <td>觀光餐旅</td>\n",
       "      <td>562.1345</td>\n",
       "      <td>0.0000</td>\n",
       "      <td>0.4504</td>\n",
       "      <td>12.0920</td>\n",
       "      <td>25.99</td>\n",
       "      <td>0</td>\n",
       "    </tr>\n",
       "    <tr>\n",
       "      <th>2</th>\n",
       "      <td>5514 三豐</td>\n",
       "      <td>建材營造</td>\n",
       "      <td>312.5721</td>\n",
       "      <td>0.0000</td>\n",
       "      <td>615.4123</td>\n",
       "      <td>10.5248</td>\n",
       "      <td>26.34</td>\n",
       "      <td>0</td>\n",
       "    </tr>\n",
       "    <tr>\n",
       "      <th>3</th>\n",
       "      <td>2527 宏璟</td>\n",
       "      <td>建材營造</td>\n",
       "      <td>111.4168</td>\n",
       "      <td>0.0000</td>\n",
       "      <td>196.8640</td>\n",
       "      <td>3.8578</td>\n",
       "      <td>26.47</td>\n",
       "      <td>0</td>\n",
       "    </tr>\n",
       "    <tr>\n",
       "      <th>4</th>\n",
       "      <td>1418 東華</td>\n",
       "      <td>紡織纖維</td>\n",
       "      <td>89.4470</td>\n",
       "      <td>0.0000</td>\n",
       "      <td>18.0968</td>\n",
       "      <td>20.4087</td>\n",
       "      <td>26.70</td>\n",
       "      <td>0</td>\n",
       "    </tr>\n",
       "    <tr>\n",
       "      <th>...</th>\n",
       "      <td>...</td>\n",
       "      <td>...</td>\n",
       "      <td>...</td>\n",
       "      <td>...</td>\n",
       "      <td>...</td>\n",
       "      <td>...</td>\n",
       "      <td>...</td>\n",
       "      <td>...</td>\n",
       "    </tr>\n",
       "    <tr>\n",
       "      <th>1819</th>\n",
       "      <td>9925 新保</td>\n",
       "      <td>其他</td>\n",
       "      <td>1.0489</td>\n",
       "      <td>0.0000</td>\n",
       "      <td>0.0053</td>\n",
       "      <td>0.6351</td>\n",
       "      <td>90.09</td>\n",
       "      <td>0</td>\n",
       "    </tr>\n",
       "    <tr>\n",
       "      <th>1820</th>\n",
       "      <td>6282 康舒</td>\n",
       "      <td>電子零組件</td>\n",
       "      <td>26.0170</td>\n",
       "      <td>158.1681</td>\n",
       "      <td>0.1563</td>\n",
       "      <td>1.5921</td>\n",
       "      <td>90.29</td>\n",
       "      <td>0</td>\n",
       "    </tr>\n",
       "    <tr>\n",
       "      <th>1821</th>\n",
       "      <td>4129 聯合</td>\n",
       "      <td>生技醫療</td>\n",
       "      <td>10.0597</td>\n",
       "      <td>160.1907</td>\n",
       "      <td>0.0321</td>\n",
       "      <td>1.2999</td>\n",
       "      <td>90.41</td>\n",
       "      <td>0</td>\n",
       "    </tr>\n",
       "    <tr>\n",
       "      <th>1822</th>\n",
       "      <td>2748 雲品</td>\n",
       "      <td>觀光餐旅</td>\n",
       "      <td>165.4636</td>\n",
       "      <td>0.0000</td>\n",
       "      <td>0.1642</td>\n",
       "      <td>4.5875</td>\n",
       "      <td>90.42</td>\n",
       "      <td>0</td>\n",
       "    </tr>\n",
       "    <tr>\n",
       "      <th>1823</th>\n",
       "      <td>4743 合一</td>\n",
       "      <td>生技醫療</td>\n",
       "      <td>7.8213</td>\n",
       "      <td>0.0000</td>\n",
       "      <td>0.0132</td>\n",
       "      <td>1.8131</td>\n",
       "      <td>90.78</td>\n",
       "      <td>0</td>\n",
       "    </tr>\n",
       "  </tbody>\n",
       "</table>\n",
       "<p>1824 rows × 8 columns</p>\n",
       "</div>"
      ],
      "text/plain": [
       "      Company Industry     Water     Green     Waste   Carbon      E  Apple\n",
       "0     5245 智晶      光電業   91.5142    0.0000    0.2809   7.4815  23.32      0\n",
       "1     2740 天蔥     觀光餐旅  562.1345    0.0000    0.4504  12.0920  25.99      0\n",
       "2     5514 三豐     建材營造  312.5721    0.0000  615.4123  10.5248  26.34      0\n",
       "3     2527 宏璟     建材營造  111.4168    0.0000  196.8640   3.8578  26.47      0\n",
       "4     1418 東華     紡織纖維   89.4470    0.0000   18.0968  20.4087  26.70      0\n",
       "...       ...      ...       ...       ...       ...      ...    ...    ...\n",
       "1819  9925 新保       其他    1.0489    0.0000    0.0053   0.6351  90.09      0\n",
       "1820  6282 康舒    電子零組件   26.0170  158.1681    0.1563   1.5921  90.29      0\n",
       "1821  4129 聯合     生技醫療   10.0597  160.1907    0.0321   1.2999  90.41      0\n",
       "1822  2748 雲品     觀光餐旅  165.4636    0.0000    0.1642   4.5875  90.42      0\n",
       "1823  4743 合一     生技醫療    7.8213    0.0000    0.0132   1.8131  90.78      0\n",
       "\n",
       "[1824 rows x 8 columns]"
      ]
     },
     "execution_count": 5,
     "metadata": {},
     "output_type": "execute_result"
    }
   ],
   "source": [
    "df1 = pd.read_excel(\"0903_data.xlsx\")\n",
    "df1"
   ]
  },
  {
   "cell_type": "markdown",
   "id": "b59ca371-a09f-48c4-ba4e-c90c44b160eb",
   "metadata": {},
   "source": [
    "### (1) 蘋果供應鏈 vs. 非蘋果供應鏈之製造業\n",
    "##### A. 環境構面分數\n",
    "實證結果：$\\underline{顯著}$\n",
    "\n"
   ]
  },
  {
   "cell_type": "code",
   "execution_count": 6,
   "id": "fd3b7479",
   "metadata": {},
   "outputs": [],
   "source": [
    "from scipy.stats import ttest_ind\n",
    "\n",
    "APPLE = df1[df1['Apple'] == 1]['E']\n",
    "NONAPPLE = df1[df1['Apple'] == 0]['E']"
   ]
  },
  {
   "cell_type": "code",
   "execution_count": 7,
   "id": "4fdc478e",
   "metadata": {
    "scrolled": true
   },
   "outputs": [
    {
     "data": {
      "text/plain": [
       "LeveneResult(statistic=9.574232000312707, pvalue=0.002003260833826645)"
      ]
     },
     "execution_count": 7,
     "metadata": {},
     "output_type": "execute_result"
    }
   ],
   "source": [
    "from scipy.stats import levene\n",
    "levene(APPLE, NONAPPLE)"
   ]
  },
  {
   "cell_type": "code",
   "execution_count": 8,
   "id": "6281e195",
   "metadata": {
    "scrolled": true
   },
   "outputs": [
    {
     "data": {
      "text/plain": [
       "TtestResult(statistic=8.533493799991502, pvalue=6.583894891096693e-10, df=30.72746939154384)"
      ]
     },
     "execution_count": 8,
     "metadata": {},
     "output_type": "execute_result"
    }
   ],
   "source": [
    "ttest_ind(APPLE, NONAPPLE, equal_var=False, alternative='greater') \n",
    "#alternative：雙尾檢定(two-sided)，左尾檢定(less)，右尾檢定(greater)、Welch's T=>equal_var=False變異數顯著差異"
   ]
  },
  {
   "cell_type": "markdown",
   "id": "c0a3f742-1216-4c68-9c55-eb649f0c9c20",
   "metadata": {},
   "source": [
    "##### B. 每佰萬單位營收碳排放(噸)"
   ]
  },
  {
   "cell_type": "code",
   "execution_count": 10,
   "id": "f89ad2a8",
   "metadata": {},
   "outputs": [],
   "source": [
    "APPLE = df1[df1['Apple'] == 1]['Carbon']\n",
    "NONAPPLE = df1[df1['Apple'] == 0]['Carbon']"
   ]
  },
  {
   "cell_type": "code",
   "execution_count": 11,
   "id": "7cfb7f43",
   "metadata": {},
   "outputs": [
    {
     "data": {
      "text/plain": [
       "LeveneResult(statistic=0.05494343141845915, pvalue=0.8147006768170985)"
      ]
     },
     "execution_count": 11,
     "metadata": {},
     "output_type": "execute_result"
    }
   ],
   "source": [
    "from scipy.stats import levene\n",
    "levene(APPLE, NONAPPLE)"
   ]
  },
  {
   "cell_type": "code",
   "execution_count": 12,
   "id": "df5187c4",
   "metadata": {},
   "outputs": [
    {
     "data": {
      "text/plain": [
       "TtestResult(statistic=-0.23099544798394966, pvalue=0.40867213692015414, df=1822.0)"
      ]
     },
     "execution_count": 12,
     "metadata": {},
     "output_type": "execute_result"
    }
   ],
   "source": [
    "ttest_ind(APPLE, NONAPPLE, equal_var=True, alternative='less') "
   ]
  },
  {
   "cell_type": "markdown",
   "id": "5ecdc5e2-0c84-4b1a-b105-04b527ed9285",
   "metadata": {},
   "source": [
    "##### C. 每百萬營收綠電"
   ]
  },
  {
   "cell_type": "code",
   "execution_count": 15,
   "id": "f2f01f4e",
   "metadata": {},
   "outputs": [],
   "source": [
    "APPLE = df1[df1['Apple'] == 1]['Green']\n",
    "NONAPPLE = df1[df1['Apple'] == 0]['Green']"
   ]
  },
  {
   "cell_type": "code",
   "execution_count": 16,
   "id": "88ab95e6",
   "metadata": {},
   "outputs": [
    {
     "data": {
      "text/plain": [
       "LeveneResult(statistic=0.016878921567865513, pvalue=0.8966449289175411)"
      ]
     },
     "execution_count": 16,
     "metadata": {},
     "output_type": "execute_result"
    }
   ],
   "source": [
    "from scipy.stats import levene\n",
    "levene(APPLE, NONAPPLE)"
   ]
  },
  {
   "cell_type": "code",
   "execution_count": 17,
   "id": "0790d0cf",
   "metadata": {},
   "outputs": [
    {
     "data": {
      "text/plain": [
       "TtestResult(statistic=-0.12991214922750408, pvalue=0.5516748638753639, df=1822.0)"
      ]
     },
     "execution_count": 17,
     "metadata": {},
     "output_type": "execute_result"
    }
   ],
   "source": [
    "ttest_ind(APPLE, NONAPPLE, equal_var=True, alternative='greater') "
   ]
  },
  {
   "cell_type": "code",
   "execution_count": null,
   "id": "fe1ec55d",
   "metadata": {},
   "outputs": [],
   "source": []
  },
  {
   "cell_type": "code",
   "execution_count": null,
   "id": "5828d1ae",
   "metadata": {},
   "outputs": [],
   "source": []
  },
  {
   "cell_type": "markdown",
   "id": "5b7177ef-0672-4df0-a407-fc7cf9b4131f",
   "metadata": {},
   "source": [
    "### (2) 電子零組件 vs. 製造業\n",
    "##### A. 環境構面分數"
   ]
  },
  {
   "cell_type": "code",
   "execution_count": 21,
   "id": "62d236b8",
   "metadata": {},
   "outputs": [],
   "source": [
    "iEle = df1[df1['Industry'] == '電子零組件']['E']\n",
    "iNONEle = df1[df1['Industry'] != '電子零組件']['E']"
   ]
  },
  {
   "cell_type": "code",
   "execution_count": 22,
   "id": "054550a1",
   "metadata": {},
   "outputs": [
    {
     "data": {
      "text/plain": [
       "LeveneResult(statistic=0.11101695641465655, pvalue=0.7390276387357225)"
      ]
     },
     "execution_count": 22,
     "metadata": {},
     "output_type": "execute_result"
    }
   ],
   "source": [
    "from scipy.stats import levene\n",
    "levene(iEle, iNONEle)"
   ]
  },
  {
   "cell_type": "code",
   "execution_count": 23,
   "id": "293fde84",
   "metadata": {},
   "outputs": [
    {
     "data": {
      "text/plain": [
       "TtestResult(statistic=-0.7972293342593821, pvalue=0.7872891349747038, df=1822.0)"
      ]
     },
     "execution_count": 23,
     "metadata": {},
     "output_type": "execute_result"
    }
   ],
   "source": [
    "ttest_ind(iEle, iNONEle, equal_var=True, alternative='greater') "
   ]
  },
  {
   "cell_type": "markdown",
   "id": "7eebf4f7-2347-4a5a-970c-11ee4bc285bb",
   "metadata": {},
   "source": [
    "##### B. 每佰萬單位營收碳排放(噸)"
   ]
  },
  {
   "cell_type": "code",
   "execution_count": 25,
   "id": "3ad50b13",
   "metadata": {},
   "outputs": [],
   "source": [
    "iEle = df1[df1['Industry'] == '電子零組件']['Carbon']\n",
    "iNONEle = df1[df1['Industry'] != '電子零組件']['Carbon']"
   ]
  },
  {
   "cell_type": "code",
   "execution_count": 26,
   "id": "41045d04",
   "metadata": {},
   "outputs": [
    {
     "data": {
      "text/plain": [
       "LeveneResult(statistic=0.3581535690365817, pvalue=0.5496078764086529)"
      ]
     },
     "execution_count": 26,
     "metadata": {},
     "output_type": "execute_result"
    }
   ],
   "source": [
    "from scipy.stats import levene\n",
    "levene(iEle, iNONEle)"
   ]
  },
  {
   "cell_type": "code",
   "execution_count": 27,
   "id": "05cb28ab",
   "metadata": {},
   "outputs": [
    {
     "data": {
      "text/plain": [
       "TtestResult(statistic=-0.555855434165591, pvalue=0.2891889673481542, df=1822.0)"
      ]
     },
     "execution_count": 27,
     "metadata": {},
     "output_type": "execute_result"
    }
   ],
   "source": [
    "ttest_ind(iEle, iNONEle, equal_var=True, alternative='less') "
   ]
  },
  {
   "cell_type": "markdown",
   "id": "7a788716-b1ef-4690-a79f-39704e7d3983",
   "metadata": {},
   "source": [
    "##### C. 每百萬營收綠電"
   ]
  },
  {
   "cell_type": "code",
   "execution_count": 29,
   "id": "4541eb4c",
   "metadata": {},
   "outputs": [],
   "source": [
    "iEle = df1[df1['Industry'] == '電子零組件']['Green']\n",
    "iNONEle = df1[df1['Industry'] != '電子零組件']['Green']"
   ]
  },
  {
   "cell_type": "code",
   "execution_count": 30,
   "id": "ef889638",
   "metadata": {},
   "outputs": [
    {
     "data": {
      "text/plain": [
       "LeveneResult(statistic=0.13092647617510958, pvalue=0.7175153223777595)"
      ]
     },
     "execution_count": 30,
     "metadata": {},
     "output_type": "execute_result"
    }
   ],
   "source": [
    "from scipy.stats import levene\n",
    "levene(iEle, iNONEle)"
   ]
  },
  {
   "cell_type": "code",
   "execution_count": 34,
   "id": "0842c112",
   "metadata": {},
   "outputs": [
    {
     "data": {
      "text/plain": [
       "TtestResult(statistic=-0.3618376378641525, pvalue=0.6412423388111895, df=1822.0)"
      ]
     },
     "execution_count": 34,
     "metadata": {},
     "output_type": "execute_result"
    }
   ],
   "source": [
    "ttest_ind(iEle, iNONEle, equal_var=True, alternative='greater') "
   ]
  },
  {
   "cell_type": "code",
   "execution_count": null,
   "id": "f61e3c55",
   "metadata": {},
   "outputs": [],
   "source": []
  },
  {
   "cell_type": "code",
   "execution_count": null,
   "id": "aafd3ac0",
   "metadata": {},
   "outputs": [],
   "source": []
  },
  {
   "cell_type": "markdown",
   "id": "c936a9fb-285a-409a-b1df-292eb4d60af1",
   "metadata": {},
   "source": [
    "### (3) 化學工業 vs. 製造業\n",
    "##### A. 環境構面分數\n",
    "實證結果：$\\underline{顯著}$"
   ]
  },
  {
   "cell_type": "code",
   "execution_count": 53,
   "id": "dec59182",
   "metadata": {},
   "outputs": [],
   "source": [
    "iChe = df1[df1['Industry'] == '化學工業']['E']\n",
    "iNONChe = df1[df1['Industry'] != '化學工業']['E']"
   ]
  },
  {
   "cell_type": "code",
   "execution_count": 55,
   "id": "d95ba2b7",
   "metadata": {},
   "outputs": [
    {
     "data": {
      "text/plain": [
       "LeveneResult(statistic=2.9128166041424284, pvalue=0.08804867505906731)"
      ]
     },
     "execution_count": 55,
     "metadata": {},
     "output_type": "execute_result"
    }
   ],
   "source": [
    "from scipy.stats import levene\n",
    "levene(iChe, iNONChe)"
   ]
  },
  {
   "cell_type": "code",
   "execution_count": 57,
   "id": "f448f30c",
   "metadata": {},
   "outputs": [
    {
     "data": {
      "text/plain": [
       "TtestResult(statistic=2.016247504326205, pvalue=0.021960301105039375, df=1822.0)"
      ]
     },
     "execution_count": 57,
     "metadata": {},
     "output_type": "execute_result"
    }
   ],
   "source": [
    "ttest_ind(iChe, iNONChe, equal_var=True, alternative='greater') "
   ]
  },
  {
   "cell_type": "markdown",
   "id": "c4b1837c-9ba8-480f-8ae1-178dd3d1b9c6",
   "metadata": {},
   "source": [
    "##### B. 每佰萬單位營收碳排放(噸)"
   ]
  },
  {
   "cell_type": "code",
   "execution_count": 60,
   "id": "fdb337a8",
   "metadata": {},
   "outputs": [],
   "source": [
    "iChe = df1[df1['Industry'] == '化學工業']['Carbon']\n",
    "iNONChe = df1[df1['Industry'] != '化學工業']['Carbon']"
   ]
  },
  {
   "cell_type": "code",
   "execution_count": 62,
   "id": "1cd04b31",
   "metadata": {},
   "outputs": [
    {
     "data": {
      "text/plain": [
       "LeveneResult(statistic=0.044780851701459144, pvalue=0.8324311775146717)"
      ]
     },
     "execution_count": 62,
     "metadata": {},
     "output_type": "execute_result"
    }
   ],
   "source": [
    "from scipy.stats import levene\n",
    "levene(iChe, iNONChe)"
   ]
  },
  {
   "cell_type": "code",
   "execution_count": 64,
   "id": "7359e327",
   "metadata": {
    "scrolled": true
   },
   "outputs": [
    {
     "data": {
      "text/plain": [
       "TtestResult(statistic=-0.20377371116315593, pvalue=0.41927654676865833, df=1822.0)"
      ]
     },
     "execution_count": 64,
     "metadata": {},
     "output_type": "execute_result"
    }
   ],
   "source": [
    "ttest_ind(iChe, iNONChe, equal_var=True, alternative='less') "
   ]
  },
  {
   "cell_type": "markdown",
   "id": "57991246-35b8-4b99-ba47-aa5e3605eca7",
   "metadata": {},
   "source": [
    "##### C. 每百萬營收綠電"
   ]
  },
  {
   "cell_type": "code",
   "execution_count": 67,
   "id": "49292823",
   "metadata": {},
   "outputs": [],
   "source": [
    "iChe = df1[df1['Industry'] == '化學工業']['Green']\n",
    "iNONChe = df1[df1['Industry'] != '化學工業']['Green']"
   ]
  },
  {
   "cell_type": "code",
   "execution_count": 69,
   "id": "d274a2fc",
   "metadata": {},
   "outputs": [
    {
     "data": {
      "text/plain": [
       "LeveneResult(statistic=0.02364548052521062, pvalue=0.87780743187852)"
      ]
     },
     "execution_count": 69,
     "metadata": {},
     "output_type": "execute_result"
    }
   ],
   "source": [
    "from scipy.stats import levene\n",
    "levene(iChe, iNONChe)"
   ]
  },
  {
   "cell_type": "code",
   "execution_count": 71,
   "id": "ee5c4af5",
   "metadata": {},
   "outputs": [
    {
     "data": {
      "text/plain": [
       "TtestResult(statistic=-0.15377087021022748, pvalue=0.561096284060766, df=1822.0)"
      ]
     },
     "execution_count": 71,
     "metadata": {},
     "output_type": "execute_result"
    }
   ],
   "source": [
    "ttest_ind(iChe, iNONChe, equal_var=True, alternative='greater') "
   ]
  },
  {
   "cell_type": "code",
   "execution_count": null,
   "id": "12bed3c5",
   "metadata": {},
   "outputs": [],
   "source": []
  },
  {
   "cell_type": "code",
   "execution_count": null,
   "id": "df1d4605",
   "metadata": {},
   "outputs": [],
   "source": []
  },
  {
   "cell_type": "markdown",
   "id": "f571fead-2ecc-47e7-bcb2-8a770c38718d",
   "metadata": {},
   "source": [
    "### (4) 電機機械 vs. 製造業\n",
    "##### A. 環境構面分數"
   ]
  },
  {
   "cell_type": "code",
   "execution_count": 76,
   "id": "fa2ae78a",
   "metadata": {},
   "outputs": [],
   "source": [
    "iMac = df1[df1['Industry'] == '電機機械']['E']\n",
    "iNONMac = df1[df1['Industry'] != '電機機械']['E']"
   ]
  },
  {
   "cell_type": "code",
   "execution_count": 78,
   "id": "8af4233a",
   "metadata": {},
   "outputs": [
    {
     "data": {
      "text/plain": [
       "LeveneResult(statistic=0.01760028309218877, pvalue=0.8944721361813764)"
      ]
     },
     "execution_count": 78,
     "metadata": {},
     "output_type": "execute_result"
    }
   ],
   "source": [
    "from scipy.stats import levene\n",
    "levene(iMac, iNONMac)"
   ]
  },
  {
   "cell_type": "code",
   "execution_count": 80,
   "id": "68cf7c68",
   "metadata": {},
   "outputs": [
    {
     "data": {
      "text/plain": [
       "TtestResult(statistic=-1.1419931679803055, pvalue=0.8731965428604604, df=1822.0)"
      ]
     },
     "execution_count": 80,
     "metadata": {},
     "output_type": "execute_result"
    }
   ],
   "source": [
    "ttest_ind(iMac, iNONMac, equal_var=True, alternative='greater') "
   ]
  },
  {
   "cell_type": "markdown",
   "id": "6603004f-a2a0-495d-a9ab-cb063a826d63",
   "metadata": {},
   "source": [
    "##### B. 每佰萬單位營收碳排放(噸)"
   ]
  },
  {
   "cell_type": "code",
   "execution_count": 83,
   "id": "a73dccbf",
   "metadata": {},
   "outputs": [],
   "source": [
    "iMac = df1[df1['Industry'] == '電機機械']['Carbon']\n",
    "iNONMac = df1[df1['Industry'] != '電機機械']['Carbon']"
   ]
  },
  {
   "cell_type": "code",
   "execution_count": 85,
   "id": "f8c67b20",
   "metadata": {},
   "outputs": [
    {
     "data": {
      "text/plain": [
       "LeveneResult(statistic=0.060464266938002754, pvalue=0.8057913427597567)"
      ]
     },
     "execution_count": 85,
     "metadata": {},
     "output_type": "execute_result"
    }
   ],
   "source": [
    "from scipy.stats import levene\n",
    "levene(iMac, iNONMac)"
   ]
  },
  {
   "cell_type": "code",
   "execution_count": 87,
   "id": "ae1b1b2b",
   "metadata": {},
   "outputs": [
    {
     "data": {
      "text/plain": [
       "TtestResult(statistic=-0.22457169222155574, pvalue=0.41116883485828715, df=1822.0)"
      ]
     },
     "execution_count": 87,
     "metadata": {},
     "output_type": "execute_result"
    }
   ],
   "source": [
    "ttest_ind(iMac, iNONMac, equal_var=True, alternative='less') "
   ]
  },
  {
   "cell_type": "markdown",
   "id": "c9cb3b2f-99ef-41dd-8054-83a37acd6c49",
   "metadata": {},
   "source": [
    "##### C. 每百萬營收綠電"
   ]
  },
  {
   "cell_type": "code",
   "execution_count": 90,
   "id": "9ac27d66",
   "metadata": {},
   "outputs": [],
   "source": [
    "iMac = df1[df1['Industry'] == '電機機械']['Green']\n",
    "iNONMac = df1[df1['Industry'] != '電機機械']['Green']"
   ]
  },
  {
   "cell_type": "code",
   "execution_count": 92,
   "id": "9abb9253",
   "metadata": {},
   "outputs": [
    {
     "data": {
      "text/plain": [
       "LeveneResult(statistic=0.055108191227075276, pvalue=0.8144281159057001)"
      ]
     },
     "execution_count": 92,
     "metadata": {},
     "output_type": "execute_result"
    }
   ],
   "source": [
    "from scipy.stats import levene\n",
    "levene(iMac, iNONMac)"
   ]
  },
  {
   "cell_type": "code",
   "execution_count": 94,
   "id": "da977bab",
   "metadata": {},
   "outputs": [
    {
     "data": {
      "text/plain": [
       "TtestResult(statistic=-0.23475133913798077, pvalue=0.5927859420471805, df=1822.0)"
      ]
     },
     "execution_count": 94,
     "metadata": {},
     "output_type": "execute_result"
    }
   ],
   "source": [
    "ttest_ind(iMac, iNONMac, equal_var=True, alternative='greater') "
   ]
  },
  {
   "cell_type": "code",
   "execution_count": null,
   "id": "020bfe94",
   "metadata": {},
   "outputs": [],
   "source": []
  },
  {
   "cell_type": "code",
   "execution_count": null,
   "id": "b968ef71",
   "metadata": {},
   "outputs": [],
   "source": []
  },
  {
   "cell_type": "code",
   "execution_count": null,
   "id": "14cdf8b9",
   "metadata": {},
   "outputs": [],
   "source": []
  }
 ],
 "metadata": {
  "kernelspec": {
   "display_name": "Python 3 (ipykernel)",
   "language": "python",
   "name": "python3"
  },
  "language_info": {
   "codemirror_mode": {
    "name": "ipython",
    "version": 3
   },
   "file_extension": ".py",
   "mimetype": "text/x-python",
   "name": "python",
   "nbconvert_exporter": "python",
   "pygments_lexer": "ipython3",
   "version": "3.11.5"
  }
 },
 "nbformat": 4,
 "nbformat_minor": 5
}
